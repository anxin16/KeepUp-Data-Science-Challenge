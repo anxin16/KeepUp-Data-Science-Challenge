{
 "cells": [
  {
   "cell_type": "markdown",
   "metadata": {},
   "source": [
    "# KeepUp Data Science Interview Challenge\n",
    "For this exercise, you will analyze a dataset from Amazon. "
   ]
  },
  {
   "cell_type": "markdown",
   "metadata": {},
   "source": [
    "### A. (Suggested duration: 90 mins)\n",
    "With the given data for 548552 products, perform exploratory analysis and make suggestions for further analysis on the following aspects.\n",
    "\n",
    "1. **Trustworthiness of ratings**  \n",
    "Ratings are susceptible to manipulation, bias etc. What can you say (quantitatively speaking) about the ratings in this dataset?\n",
    "\n",
    "2. **Category bloat**  \n",
    "Consider the product group named 'Books'. Each product in this group is associated with categories. Naturally, with categorization, there are tradeoffs between how broad or specific the categories must be.  \n",
    "For this dataset, quantify the following:  \n",
    "a. Is there redundancy in the categorization? How can it be identified/removed?  \n",
    "b. Is is possible to reduce the number of categories drastically (say to 10% of existing categories) by sacrificing relatively few category entries (say close to 10%)?  "
   ]
  },
  {
   "cell_type": "code",
   "execution_count": 1,
   "metadata": {
    "collapsed": true
   },
   "outputs": [],
   "source": [
    "import pandas as pd\n",
    "import gzip"
   ]
  },
  {
   "cell_type": "code",
   "execution_count": 2,
   "metadata": {
    "collapsed": true
   },
   "outputs": [],
   "source": [
    "# Read in the dataset\n",
    "with gzip.open('amazon-meta.txt.gz', 'rt') as f:\n",
    "    amazon_meta = f.read()\n",
    "f.close()"
   ]
  },
  {
   "cell_type": "code",
   "execution_count": 3,
   "metadata": {
    "collapsed": false
   },
   "outputs": [],
   "source": [
    "# Parse and group the data by each product\n",
    "grouped = []\n",
    "product = []\n",
    "\n",
    "for line in amazon_meta.split('\\n')[3:]:\n",
    "    if line != '':\n",
    "        product.append(line)\n",
    "    else:\n",
    "        grouped.append(product)\n",
    "        product = []"
   ]
  },
  {
   "cell_type": "code",
   "execution_count": 4,
   "metadata": {
    "collapsed": false
   },
   "outputs": [
    {
     "data": {
      "text/plain": [
       "[['Id:   0', 'ASIN: 0771044445', '  discontinued product'],\n",
       " ['Id:   1',\n",
       "  'ASIN: 0827229534',\n",
       "  '  title: Patterns of Preaching: A Sermon Sampler',\n",
       "  '  group: Book',\n",
       "  '  salesrank: 396585',\n",
       "  '  similar: 5  0804215715  156101074X  0687023955  0687074231  082721619X',\n",
       "  '  categories: 2',\n",
       "  '   |Books[283155]|Subjects[1000]|Religion & Spirituality[22]|Christianity[12290]|Clergy[12360]|Preaching[12368]',\n",
       "  '   |Books[283155]|Subjects[1000]|Religion & Spirituality[22]|Christianity[12290]|Clergy[12360]|Sermons[12370]',\n",
       "  '  reviews: total: 2  downloaded: 2  avg rating: 5',\n",
       "  '    2000-7-28  cutomer: A2JW67OY8U6HHK  rating: 5  votes:  10  helpful:   9',\n",
       "  '    2003-12-14  cutomer: A2VE83MZF98ITY  rating: 5  votes:   6  helpful:   5'],\n",
       " ['Id:   2',\n",
       "  'ASIN: 0738700797',\n",
       "  '  title: Candlemas: Feast of Flames',\n",
       "  '  group: Book',\n",
       "  '  salesrank: 168596',\n",
       "  '  similar: 5  0738700827  1567184960  1567182836  0738700525  0738700940',\n",
       "  '  categories: 2',\n",
       "  '   |Books[283155]|Subjects[1000]|Religion & Spirituality[22]|Earth-Based Religions[12472]|Wicca[12484]',\n",
       "  '   |Books[283155]|Subjects[1000]|Religion & Spirituality[22]|Earth-Based Religions[12472]|Witchcraft[12486]',\n",
       "  '  reviews: total: 12  downloaded: 12  avg rating: 4.5',\n",
       "  '    2001-12-16  cutomer: A11NCO6YTE4BTJ  rating: 5  votes:   5  helpful:   4',\n",
       "  '    2002-1-7  cutomer:  A9CQ3PLRNIR83  rating: 4  votes:   5  helpful:   5',\n",
       "  '    2002-1-24  cutomer: A13SG9ACZ9O5IM  rating: 5  votes:   8  helpful:   8',\n",
       "  '    2002-1-28  cutomer: A1BDAI6VEYMAZA  rating: 5  votes:   4  helpful:   4',\n",
       "  '    2002-2-6  cutomer: A2P6KAWXJ16234  rating: 4  votes:  16  helpful:  16',\n",
       "  '    2002-2-14  cutomer:  AMACWC3M7PQFR  rating: 4  votes:   5  helpful:   5',\n",
       "  '    2002-3-23  cutomer: A3GO7UV9XX14D8  rating: 4  votes:   6  helpful:   6',\n",
       "  '    2002-5-23  cutomer: A1GIL64QK68WKL  rating: 5  votes:   8  helpful:   8',\n",
       "  '    2003-2-25  cutomer:  AEOBOF2ONQJWV  rating: 5  votes:   8  helpful:   5',\n",
       "  '    2003-11-25  cutomer: A3IGHTES8ME05L  rating: 5  votes:   5  helpful:   5',\n",
       "  '    2004-2-11  cutomer: A1CP26N8RHYVVO  rating: 1  votes:  13  helpful:   9',\n",
       "  '    2005-2-7  cutomer:  ANEIANH0WAT9D  rating: 5  votes:   1  helpful:   1']]"
      ]
     },
     "execution_count": 4,
     "metadata": {},
     "output_type": "execute_result"
    }
   ],
   "source": [
    "grouped[0:3]"
   ]
  },
  {
   "cell_type": "code",
   "execution_count": 5,
   "metadata": {
    "collapsed": false
   },
   "outputs": [
    {
     "data": {
      "text/plain": [
       "548553"
      ]
     },
     "execution_count": 5,
     "metadata": {},
     "output_type": "execute_result"
    }
   ],
   "source": [
    "len(grouped)"
   ]
  },
  {
   "cell_type": "markdown",
   "metadata": {
    "collapsed": true
   },
   "source": [
    "#### 1. Trustworthiness of ratings"
   ]
  },
  {
   "cell_type": "code",
   "execution_count": null,
   "metadata": {
    "collapsed": false,
    "scrolled": true
   },
   "outputs": [],
   "source": [
    "# Extract rating info from product group and put them into a dataframe \n",
    "rating = pd.DataFrame(columns = ['id', 'total', 'downloaded', 'avg_rating'])\n",
    "i = 0\n",
    "\n",
    "for product in grouped:\n",
    "    idn, total, downloaded, avg_rating = '', '', '', ''\n",
    "    skip = False\n",
    "    for item in product:\n",
    "        if item.startswith('Id:'):\n",
    "            idn = item.split()[-1]\n",
    "        elif item.startswith('  reviews:'):\n",
    "            total = item.split()[2]\n",
    "            downloaded = item.split()[4]\n",
    "            avg_rating = item.split()[7]\n",
    "        elif item.startswith('  discontinued product'):\n",
    "            skip = True\n",
    "    if skip == False:\n",
    "        rating.loc[i] = [idn, total, downloaded, avg_rating]\n",
    "        if i%1000==0: print('i=', i)\n",
    "        i += 1"
   ]
  },
  {
   "cell_type": "code",
   "execution_count": 10,
   "metadata": {
    "collapsed": false
   },
   "outputs": [
    {
     "data": {
      "text/html": [
       "<div>\n",
       "<table border=\"1\" class=\"dataframe\">\n",
       "  <thead>\n",
       "    <tr style=\"text-align: right;\">\n",
       "      <th></th>\n",
       "      <th>id</th>\n",
       "      <th>total</th>\n",
       "      <th>downloaded</th>\n",
       "      <th>avg_rating</th>\n",
       "    </tr>\n",
       "  </thead>\n",
       "  <tbody>\n",
       "    <tr>\n",
       "      <th>0</th>\n",
       "      <td>1</td>\n",
       "      <td>2</td>\n",
       "      <td>2</td>\n",
       "      <td>5</td>\n",
       "    </tr>\n",
       "    <tr>\n",
       "      <th>1</th>\n",
       "      <td>2</td>\n",
       "      <td>12</td>\n",
       "      <td>12</td>\n",
       "      <td>4.5</td>\n",
       "    </tr>\n",
       "    <tr>\n",
       "      <th>2</th>\n",
       "      <td>3</td>\n",
       "      <td>1</td>\n",
       "      <td>1</td>\n",
       "      <td>5</td>\n",
       "    </tr>\n",
       "    <tr>\n",
       "      <th>3</th>\n",
       "      <td>4</td>\n",
       "      <td>1</td>\n",
       "      <td>1</td>\n",
       "      <td>4</td>\n",
       "    </tr>\n",
       "    <tr>\n",
       "      <th>4</th>\n",
       "      <td>5</td>\n",
       "      <td>0</td>\n",
       "      <td>0</td>\n",
       "      <td>0</td>\n",
       "    </tr>\n",
       "  </tbody>\n",
       "</table>\n",
       "</div>"
      ],
      "text/plain": [
       "  id total downloaded avg_rating\n",
       "0  1     2          2          5\n",
       "1  2    12         12        4.5\n",
       "2  3     1          1          5\n",
       "3  4     1          1          4\n",
       "4  5     0          0          0"
      ]
     },
     "execution_count": 10,
     "metadata": {},
     "output_type": "execute_result"
    }
   ],
   "source": [
    "# rating.columns = ['id', 'total', 'downloaded', 'avg_rating']\n",
    "rating.head()"
   ]
  },
  {
   "cell_type": "code",
   "execution_count": 15,
   "metadata": {
    "collapsed": false
   },
   "outputs": [
    {
     "data": {
      "text/html": [
       "<div>\n",
       "<table border=\"1\" class=\"dataframe\">\n",
       "  <thead>\n",
       "    <tr style=\"text-align: right;\">\n",
       "      <th></th>\n",
       "      <th>id</th>\n",
       "      <th>total</th>\n",
       "      <th>downloaded</th>\n",
       "      <th>avg_rating</th>\n",
       "    </tr>\n",
       "  </thead>\n",
       "  <tbody>\n",
       "    <tr>\n",
       "      <th>542680</th>\n",
       "      <td>548548</td>\n",
       "      <td>8</td>\n",
       "      <td>5</td>\n",
       "      <td>3</td>\n",
       "    </tr>\n",
       "    <tr>\n",
       "      <th>542681</th>\n",
       "      <td>548549</td>\n",
       "      <td>1</td>\n",
       "      <td>1</td>\n",
       "      <td>4</td>\n",
       "    </tr>\n",
       "    <tr>\n",
       "      <th>542682</th>\n",
       "      <td>548550</td>\n",
       "      <td>3</td>\n",
       "      <td>3</td>\n",
       "      <td>5</td>\n",
       "    </tr>\n",
       "    <tr>\n",
       "      <th>542683</th>\n",
       "      <td>548551</td>\n",
       "      <td>1</td>\n",
       "      <td>1</td>\n",
       "      <td>5</td>\n",
       "    </tr>\n",
       "    <tr>\n",
       "      <th>542684</th>\n",
       "      <td></td>\n",
       "      <td></td>\n",
       "      <td></td>\n",
       "      <td></td>\n",
       "    </tr>\n",
       "  </tbody>\n",
       "</table>\n",
       "</div>"
      ],
      "text/plain": [
       "            id total downloaded avg_rating\n",
       "542680  548548     8          5          3\n",
       "542681  548549     1          1          4\n",
       "542682  548550     3          3          5\n",
       "542683  548551     1          1          5\n",
       "542684                                    "
      ]
     },
     "execution_count": 15,
     "metadata": {},
     "output_type": "execute_result"
    }
   ],
   "source": [
    "rating.tail()"
   ]
  },
  {
   "cell_type": "code",
   "execution_count": 16,
   "metadata": {
    "collapsed": false
   },
   "outputs": [],
   "source": [
    "# Remove empty record\n",
    "rating = rating[rating['id']!='']"
   ]
  },
  {
   "cell_type": "code",
   "execution_count": 17,
   "metadata": {
    "collapsed": false
   },
   "outputs": [
    {
     "data": {
      "text/plain": [
       "542684"
      ]
     },
     "execution_count": 17,
     "metadata": {},
     "output_type": "execute_result"
    }
   ],
   "source": [
    "len(rating)"
   ]
  },
  {
   "cell_type": "code",
   "execution_count": 18,
   "metadata": {
    "collapsed": false
   },
   "outputs": [
    {
     "data": {
      "text/html": [
       "<div>\n",
       "<table border=\"1\" class=\"dataframe\">\n",
       "  <thead>\n",
       "    <tr style=\"text-align: right;\">\n",
       "      <th></th>\n",
       "      <th>id</th>\n",
       "      <th>total</th>\n",
       "      <th>downloaded</th>\n",
       "      <th>avg_rating</th>\n",
       "    </tr>\n",
       "  </thead>\n",
       "  <tbody>\n",
       "    <tr>\n",
       "      <th>0</th>\n",
       "      <td>1</td>\n",
       "      <td>2</td>\n",
       "      <td>2</td>\n",
       "      <td>5.0</td>\n",
       "    </tr>\n",
       "    <tr>\n",
       "      <th>1</th>\n",
       "      <td>2</td>\n",
       "      <td>12</td>\n",
       "      <td>12</td>\n",
       "      <td>4.5</td>\n",
       "    </tr>\n",
       "    <tr>\n",
       "      <th>2</th>\n",
       "      <td>3</td>\n",
       "      <td>1</td>\n",
       "      <td>1</td>\n",
       "      <td>5.0</td>\n",
       "    </tr>\n",
       "    <tr>\n",
       "      <th>3</th>\n",
       "      <td>4</td>\n",
       "      <td>1</td>\n",
       "      <td>1</td>\n",
       "      <td>4.0</td>\n",
       "    </tr>\n",
       "    <tr>\n",
       "      <th>4</th>\n",
       "      <td>5</td>\n",
       "      <td>0</td>\n",
       "      <td>0</td>\n",
       "      <td>0.0</td>\n",
       "    </tr>\n",
       "  </tbody>\n",
       "</table>\n",
       "</div>"
      ],
      "text/plain": [
       "   id  total  downloaded  avg_rating\n",
       "0   1      2           2         5.0\n",
       "1   2     12          12         4.5\n",
       "2   3      1           1         5.0\n",
       "3   4      1           1         4.0\n",
       "4   5      0           0         0.0"
      ]
     },
     "execution_count": 18,
     "metadata": {},
     "output_type": "execute_result"
    }
   ],
   "source": [
    "rating['id']  = rating['id'].astype(int)\n",
    "rating['total']  = rating['total'].astype(int)\n",
    "rating['downloaded']  = rating['downloaded'].astype(int)\n",
    "rating['avg_rating']  = rating['avg_rating'].astype(float)\n",
    "rating.head()"
   ]
  },
  {
   "cell_type": "code",
   "execution_count": 36,
   "metadata": {
    "collapsed": true
   },
   "outputs": [],
   "source": [
    "rating.to_csv('rating.csv', index=False)"
   ]
  },
  {
   "cell_type": "code",
   "execution_count": 19,
   "metadata": {
    "collapsed": true
   },
   "outputs": [],
   "source": [
    "# Products with more ratings than downloads?\n",
    "sdf = rating[rating['total'] > rating['downloaded']]"
   ]
  },
  {
   "cell_type": "code",
   "execution_count": 20,
   "metadata": {
    "collapsed": false
   },
   "outputs": [
    {
     "name": "stderr",
     "output_type": "stream",
     "text": [
      "/home/toniachu/ProgramFiles/Anaconda3/lib/python3.6/site-packages/ipykernel/__main__.py:2: SettingWithCopyWarning: \n",
      "A value is trying to be set on a copy of a slice from a DataFrame.\n",
      "Try using .loc[row_indexer,col_indexer] = value instead\n",
      "\n",
      "See the caveats in the documentation: http://pandas.pydata.org/pandas-docs/stable/indexing.html#indexing-view-versus-copy\n",
      "  from ipykernel import kernelapp as app\n"
     ]
    },
    {
     "data": {
      "text/html": [
       "<div>\n",
       "<table border=\"1\" class=\"dataframe\">\n",
       "  <thead>\n",
       "    <tr style=\"text-align: right;\">\n",
       "      <th></th>\n",
       "      <th>id</th>\n",
       "      <th>total</th>\n",
       "      <th>downloaded</th>\n",
       "      <th>avg_rating</th>\n",
       "      <th>total_download_diff</th>\n",
       "    </tr>\n",
       "  </thead>\n",
       "  <tbody>\n",
       "    <tr>\n",
       "      <th>146566</th>\n",
       "      <td>148185</td>\n",
       "      <td>5034</td>\n",
       "      <td>5</td>\n",
       "      <td>5.0</td>\n",
       "      <td>5029</td>\n",
       "    </tr>\n",
       "    <tr>\n",
       "      <th>98414</th>\n",
       "      <td>99487</td>\n",
       "      <td>5033</td>\n",
       "      <td>5</td>\n",
       "      <td>5.0</td>\n",
       "      <td>5028</td>\n",
       "    </tr>\n",
       "    <tr>\n",
       "      <th>127274</th>\n",
       "      <td>128673</td>\n",
       "      <td>4922</td>\n",
       "      <td>5</td>\n",
       "      <td>5.0</td>\n",
       "      <td>4917</td>\n",
       "    </tr>\n",
       "    <tr>\n",
       "      <th>248690</th>\n",
       "      <td>251503</td>\n",
       "      <td>2925</td>\n",
       "      <td>5</td>\n",
       "      <td>4.5</td>\n",
       "      <td>2920</td>\n",
       "    </tr>\n",
       "    <tr>\n",
       "      <th>375355</th>\n",
       "      <td>379661</td>\n",
       "      <td>2925</td>\n",
       "      <td>5</td>\n",
       "      <td>4.5</td>\n",
       "      <td>2920</td>\n",
       "    </tr>\n",
       "  </tbody>\n",
       "</table>\n",
       "</div>"
      ],
      "text/plain": [
       "            id  total  downloaded  avg_rating  total_download_diff\n",
       "146566  148185   5034           5         5.0                 5029\n",
       "98414    99487   5033           5         5.0                 5028\n",
       "127274  128673   4922           5         5.0                 4917\n",
       "248690  251503   2925           5         4.5                 2920\n",
       "375355  379661   2925           5         4.5                 2920"
      ]
     },
     "execution_count": 20,
     "metadata": {},
     "output_type": "execute_result"
    }
   ],
   "source": [
    "# Take a look at the range of values\n",
    "sdf['total_download_diff'] = sdf['total'] - sdf['downloaded']\n",
    "sdf = sdf.sort_values('total_download_diff', ascending=False)\n",
    "sdf.head()"
   ]
  },
  {
   "cell_type": "code",
   "execution_count": 21,
   "metadata": {
    "collapsed": false
   },
   "outputs": [
    {
     "data": {
      "text/html": [
       "<div>\n",
       "<table border=\"1\" class=\"dataframe\">\n",
       "  <thead>\n",
       "    <tr style=\"text-align: right;\">\n",
       "      <th></th>\n",
       "      <th>id</th>\n",
       "      <th>total</th>\n",
       "      <th>downloaded</th>\n",
       "      <th>avg_rating</th>\n",
       "      <th>total_download_diff</th>\n",
       "    </tr>\n",
       "  </thead>\n",
       "  <tbody>\n",
       "    <tr>\n",
       "      <th>343491</th>\n",
       "      <td>347454</td>\n",
       "      <td>51</td>\n",
       "      <td>50</td>\n",
       "      <td>4.0</td>\n",
       "      <td>1</td>\n",
       "    </tr>\n",
       "    <tr>\n",
       "      <th>343636</th>\n",
       "      <td>347601</td>\n",
       "      <td>197</td>\n",
       "      <td>196</td>\n",
       "      <td>4.5</td>\n",
       "      <td>1</td>\n",
       "    </tr>\n",
       "    <tr>\n",
       "      <th>343698</th>\n",
       "      <td>347664</td>\n",
       "      <td>1006</td>\n",
       "      <td>1005</td>\n",
       "      <td>4.0</td>\n",
       "      <td>1</td>\n",
       "    </tr>\n",
       "    <tr>\n",
       "      <th>159751</th>\n",
       "      <td>161496</td>\n",
       "      <td>226</td>\n",
       "      <td>225</td>\n",
       "      <td>4.0</td>\n",
       "      <td>1</td>\n",
       "    </tr>\n",
       "    <tr>\n",
       "      <th>192</th>\n",
       "      <td>193</td>\n",
       "      <td>261</td>\n",
       "      <td>260</td>\n",
       "      <td>3.0</td>\n",
       "      <td>1</td>\n",
       "    </tr>\n",
       "  </tbody>\n",
       "</table>\n",
       "</div>"
      ],
      "text/plain": [
       "            id  total  downloaded  avg_rating  total_download_diff\n",
       "343491  347454     51          50         4.0                    1\n",
       "343636  347601    197         196         4.5                    1\n",
       "343698  347664   1006        1005         4.0                    1\n",
       "159751  161496    226         225         4.0                    1\n",
       "192        193    261         260         3.0                    1"
      ]
     },
     "execution_count": 21,
     "metadata": {},
     "output_type": "execute_result"
    }
   ],
   "source": [
    "sdf.tail()"
   ]
  },
  {
   "cell_type": "code",
   "execution_count": 22,
   "metadata": {
    "collapsed": false
   },
   "outputs": [
    {
     "name": "stdout",
     "output_type": "stream",
     "text": [
      "There are 8615 products with more ratings than downloads.\n"
     ]
    }
   ],
   "source": [
    "# How many are there?\n",
    "print('There are {} products with more ratings than downloads.'.format(len(sdf)))"
   ]
  },
  {
   "cell_type": "code",
   "execution_count": 23,
   "metadata": {
    "collapsed": true
   },
   "outputs": [],
   "source": [
    "import seaborn as sns\n",
    "%matplotlib inline"
   ]
  },
  {
   "cell_type": "code",
   "execution_count": 24,
   "metadata": {
    "collapsed": false
   },
   "outputs": [
    {
     "name": "stderr",
     "output_type": "stream",
     "text": [
      "/home/toniachu/ProgramFiles/Anaconda3/lib/python3.6/site-packages/statsmodels/nonparametric/kdetools.py:20: VisibleDeprecationWarning: using a non-integer number instead of an integer will result in an error in the future\n",
      "  y = X[:m/2+1] + np.r_[0,X[m/2+1:],0]*1j\n"
     ]
    },
    {
     "data": {
      "text/plain": [
       "<matplotlib.axes._subplots.AxesSubplot at 0x7fe6a8f6e898>"
      ]
     },
     "execution_count": 24,
     "metadata": {},
     "output_type": "execute_result"
    },
    {
     "data": {
      "image/png": "[encoded data removed]",
      "text/plain": [
       "<matplotlib.figure.Figure at 0x7fe6a8fc1cc0>"
      ]
     },
     "metadata": {},
     "output_type": "display_data"
    }
   ],
   "source": [
    "sns.distplot(sdf['total_download_diff'])"
   ]
  },
  {
   "cell_type": "code",
   "execution_count": 25,
   "metadata": {
    "collapsed": false
   },
   "outputs": [
    {
     "data": {
      "text/plain": [
       "<seaborn.axisgrid.JointGrid at 0x7fe66338c208>"
      ]
     },
     "execution_count": 25,
     "metadata": {},
     "output_type": "execute_result"
    },
    {
     "data": {
      "image/png": "[encoded data removed]",
      "text/plain": [
       "<matplotlib.figure.Figure at 0x7fe6633e3d68>"
      ]
     },
     "metadata": {},
     "output_type": "display_data"
    }
   ],
   "source": [
    "sns.jointplot(x='downloaded', y='total', data=sdf)"
   ]
  },
  {
   "cell_type": "code",
   "execution_count": 26,
   "metadata": {
    "collapsed": false
   },
   "outputs": [
    {
     "data": {
      "text/plain": [
       "<seaborn.axisgrid.JointGrid at 0x7fe663020208>"
      ]
     },
     "execution_count": 26,
     "metadata": {},
     "output_type": "execute_result"
    },
    {
     "data": {
      "image/png": "[encoded data removed]",
      "text/plain": [
       "<matplotlib.figure.Figure at 0x7fe663020160>"
      ]
     },
     "metadata": {},
     "output_type": "display_data"
    }
   ],
   "source": [
    "sns.jointplot(x='downloaded', y='total_download_diff', data=sdf)"
   ]
  },
  {
   "cell_type": "code",
   "execution_count": 27,
   "metadata": {
    "collapsed": false
   },
   "outputs": [
    {
     "name": "stdout",
     "output_type": "stream",
     "text": [
      "There are 3 products with more than 4000 reviews greater than the number of downloads.\n",
      "There are 12 products with more than 2000 reviews greater than the number of downloads.\n",
      "There are 28 products with more than 1000 reviews greater than the number of downloads.\n",
      "There are 56 products with more than 500 reviews greater than the number of downloads.\n",
      "There are 300 products with more than 100 reviews greater than the number of downloads.\n",
      "There are 549 products with more than 50 reviews greater than the number of downloads.\n"
     ]
    }
   ],
   "source": [
    "# What can we say about the range of values where total is greater than downloaded?\n",
    "len_list = [4000,2000,1000,500,100,50]\n",
    "\n",
    "for l in len_list:\n",
    "    print('There are {} products with more than {} reviews greater than the number of downloads.'\\\n",
    "              .format(len(sdf[sdf['total_download_diff'] > l]), l))"
   ]
  },
  {
   "cell_type": "markdown",
   "metadata": {},
   "source": [
    "As we can see above, some products have a rather unusual amount of total ratings compared to the number of downloaded, which could signify ratings manipulation. "
   ]
  },
  {
   "cell_type": "markdown",
   "metadata": {},
   "source": [
    "#### 2. Category bloat"
   ]
  },
  {
   "cell_type": "markdown",
   "metadata": {},
   "source": [
    "**a. Is there redundancy in the categorization? How can it be identified/removed?**"
   ]
  },
  {
   "cell_type": "code",
   "execution_count": 4,
   "metadata": {
    "collapsed": false
   },
   "outputs": [
    {
     "data": {
      "text/plain": [
       "[['Id:   0', 'ASIN: 0771044445', '  discontinued product'],\n",
       " ['Id:   1',\n",
       "  'ASIN: 0827229534',\n",
       "  '  title: Patterns of Preaching: A Sermon Sampler',\n",
       "  '  group: Book',\n",
       "  '  salesrank: 396585',\n",
       "  '  similar: 5  0804215715  156101074X  0687023955  0687074231  082721619X',\n",
       "  '  categories: 2',\n",
       "  '   |Books[283155]|Subjects[1000]|Religion & Spirituality[22]|Christianity[12290]|Clergy[12360]|Preaching[12368]',\n",
       "  '   |Books[283155]|Subjects[1000]|Religion & Spirituality[22]|Christianity[12290]|Clergy[12360]|Sermons[12370]',\n",
       "  '  reviews: total: 2  downloaded: 2  avg rating: 5',\n",
       "  '    2000-7-28  cutomer: A2JW67OY8U6HHK  rating: 5  votes:  10  helpful:   9',\n",
       "  '    2003-12-14  cutomer: A2VE83MZF98ITY  rating: 5  votes:   6  helpful:   5'],\n",
       " ['Id:   2',\n",
       "  'ASIN: 0738700797',\n",
       "  '  title: Candlemas: Feast of Flames',\n",
       "  '  group: Book',\n",
       "  '  salesrank: 168596',\n",
       "  '  similar: 5  0738700827  1567184960  1567182836  0738700525  0738700940',\n",
       "  '  categories: 2',\n",
       "  '   |Books[283155]|Subjects[1000]|Religion & Spirituality[22]|Earth-Based Religions[12472]|Wicca[12484]',\n",
       "  '   |Books[283155]|Subjects[1000]|Religion & Spirituality[22]|Earth-Based Religions[12472]|Witchcraft[12486]',\n",
       "  '  reviews: total: 12  downloaded: 12  avg rating: 4.5',\n",
       "  '    2001-12-16  cutomer: A11NCO6YTE4BTJ  rating: 5  votes:   5  helpful:   4',\n",
       "  '    2002-1-7  cutomer:  A9CQ3PLRNIR83  rating: 4  votes:   5  helpful:   5',\n",
       "  '    2002-1-24  cutomer: A13SG9ACZ9O5IM  rating: 5  votes:   8  helpful:   8',\n",
       "  '    2002-1-28  cutomer: A1BDAI6VEYMAZA  rating: 5  votes:   4  helpful:   4',\n",
       "  '    2002-2-6  cutomer: A2P6KAWXJ16234  rating: 4  votes:  16  helpful:  16',\n",
       "  '    2002-2-14  cutomer:  AMACWC3M7PQFR  rating: 4  votes:   5  helpful:   5',\n",
       "  '    2002-3-23  cutomer: A3GO7UV9XX14D8  rating: 4  votes:   6  helpful:   6',\n",
       "  '    2002-5-23  cutomer: A1GIL64QK68WKL  rating: 5  votes:   8  helpful:   8',\n",
       "  '    2003-2-25  cutomer:  AEOBOF2ONQJWV  rating: 5  votes:   8  helpful:   5',\n",
       "  '    2003-11-25  cutomer: A3IGHTES8ME05L  rating: 5  votes:   5  helpful:   5',\n",
       "  '    2004-2-11  cutomer: A1CP26N8RHYVVO  rating: 1  votes:  13  helpful:   9',\n",
       "  '    2005-2-7  cutomer:  ANEIANH0WAT9D  rating: 5  votes:   1  helpful:   1']]"
      ]
     },
     "execution_count": 4,
     "metadata": {},
     "output_type": "execute_result"
    }
   ],
   "source": [
    "# Samples\n",
    "grouped[0:3]"
   ]
  },
  {
   "cell_type": "code",
   "execution_count": 5,
   "metadata": {
    "collapsed": false
   },
   "outputs": [],
   "source": [
    "# Extract category info from each book into a list\n",
    "category_list = []\n",
    "book_count = 0\n",
    "\n",
    "for product in grouped:\n",
    "    group = ''\n",
    "    for item in product:\n",
    "        if item.startswith('  group:'):\n",
    "            group = item.split()[-1]\n",
    "        if group == 'Book' and item.startswith('   |'):\n",
    "            category_list.append(item.strip())\n",
    "    if group == 'Book':\n",
    "        book_count += 1"
   ]
  },
  {
   "cell_type": "code",
   "execution_count": 6,
   "metadata": {
    "collapsed": true
   },
   "outputs": [],
   "source": [
    "num_category = len(category_list)\n",
    "num_entry = len(set(category_list))"
   ]
  },
  {
   "cell_type": "code",
   "execution_count": 7,
   "metadata": {
    "collapsed": false
   },
   "outputs": [
    {
     "name": "stdout",
     "output_type": "stream",
     "text": [
      "There are 393561 total books.\n",
      "There are 1440329 total category branches across all books.\n",
      "There are 12853 category entries (unique category branches) across all books.\n"
     ]
    }
   ],
   "source": [
    "print('There are {} total books.'.format(book_count))\n",
    "print('There are {} total category branches across all books.'.format(num_category))\n",
    "print('There are {} category entries (unique category branches) across all books.'.format(num_entry))"
   ]
  },
  {
   "cell_type": "markdown",
   "metadata": {},
   "source": [
    "From above samples and the checking result, we can see that there is much redundancy in the categorization. It can be identified by the count of category one book belongs. If a book has more than one categories, it is redundancy and we can remove other category except one. "
   ]
  },
  {
   "cell_type": "markdown",
   "metadata": {},
   "source": [
    "**b. Is it possible to reduce the number of categories drastically (say to 10% of existing categories) by sacrificing relatively few category entries (say close to 10%)?**"
   ]
  },
  {
   "cell_type": "code",
   "execution_count": 8,
   "metadata": {
    "collapsed": false
   },
   "outputs": [
    {
     "data": {
      "text/plain": [
       "|[265523]|Amazon.com Stores[285080]|Home & Office[764512]|Business & Investing Books[767740]|General[767880]    18438\n",
       "|Books[283155]|Subjects[1000]|Business & Investing[3]|General[2612]                                             18436\n",
       "|Books[283155]|Subjects[1000]|Reference[21]|General[408268]                                                     13701\n",
       "|Books[283155]|Subjects[1000]|Biographies & Memoirs[2]|General[2375]                                            12241\n",
       "|Books[283155]|Subjects[1000]|Nonfiction[53]|Social Sciences[11232]|Sociology[11288]|General[11289]             11779\n",
       "|Books[283155]|Subjects[1000]|Literature & Fiction[17]|General[10125]|Contemporary[10129]                       11446\n",
       "|Books[283155]|Subjects[1000]|Children's Books[4]|Ages 4-8[2785]|General[170062]                                11439\n",
       "|Books[283155]|Subjects[1000]|Nonfiction[53]|Education[10605]|General[10635]                                     8759\n",
       "|Books[283155]|Subjects[1000]|Computers & Internet[5]|General[657762]                                            8660\n",
       "|Books[283155]|Subjects[1000]|Health, Mind & Body[10]|Psychology & Counseling[11119]|General[11175]              8064\n",
       "dtype: int64"
      ]
     },
     "execution_count": 8,
     "metadata": {},
     "output_type": "execute_result"
    }
   ],
   "source": [
    "# Get the count of category for each entry in category_list\n",
    "category_count = pd.Series(category_list).value_counts()\n",
    "category_count.head(10)"
   ]
  },
  {
   "cell_type": "code",
   "execution_count": 9,
   "metadata": {
    "collapsed": false
   },
   "outputs": [
    {
     "data": {
      "text/plain": [
       "|Books[283155]|Specialty Stores[504360]|Bargain Books[45]|Children[2460]|Literature & Fiction[2469]|Fairy Tales, Folk Tales & Myths[2471]                     1\n",
       "|Books[283155]|Subjects[1000]|Romance[23]|Authors, A-Z[12831]|( B )[12855]|Booth, Pat[565674]                                                                 1\n",
       "|Music[5174]|Styles[301668]|Classical[85]|Featured Composers, A-Z[5338]|( S )[31014]|Strauss, Richard[33253]|All Works by Strauss[33267]                      1\n",
       "|Books[283155]|Subjects[1000]|Mystery & Thrillers[18]|Authors, A-Z[69300]|( G )[69307]|Gallison, Kate[69430]                                                  1\n",
       "|Books[283155]|Subjects[1000]|Computers & Internet[5]|Databases[549646]|Specific Databases[549648]|Oracle[4092]|Developer Tools[588488]|Discoverer[588498]    1\n",
       "|Music[5174]|Styles[301668]|Classical[85]|Featured Composers, A-Z[5338]|( G )[19383]|Gluck, Christoph W.[20119]|All Works by Gluck[20126]                     1\n",
       "|Books[283155]|Subjects[1000]|Horror[49]|Authors, A-Z[5439]|( B )[5603]|Blatty, William P.[5778]                                                              1\n",
       "|Books[283155]|Subjects[1000]|Arts & Photography[1]|Art[520998]|Painting[1876]|Oil Painting[171126]                                                           1\n",
       "|[139452]|DVD[130]|Actors & Actresses[404278]|( B )[411316]|Brock, Benjamin[414416]                                                                           1\n",
       "|[139452]|DVD[130]|Actors & Actresses[404278]|( M )[434574]|McClurg, Edie[436168]                                                                             1\n",
       "dtype: int64"
      ]
     },
     "execution_count": 9,
     "metadata": {},
     "output_type": "execute_result"
    }
   ],
   "source": [
    "category_count.tail(10)"
   ]
  },
  {
   "cell_type": "code",
   "execution_count": 10,
   "metadata": {
    "collapsed": false
   },
   "outputs": [
    {
     "data": {
      "text/plain": [
       "12853"
      ]
     },
     "execution_count": 10,
     "metadata": {},
     "output_type": "execute_result"
    }
   ],
   "source": [
    "len(category_count)"
   ]
  },
  {
   "cell_type": "code",
   "execution_count": 11,
   "metadata": {
    "collapsed": false
   },
   "outputs": [
    {
     "name": "stdout",
     "output_type": "stream",
     "text": [
      "10% of existing categories: 144033\n",
      "10% of category entries 1285\n"
     ]
    }
   ],
   "source": [
    "# 10% of existing categories\n",
    "num_remain_category = int(num_category * 0.1 + 0.5)\n",
    "# 10% of category entries \n",
    "num_new_entry = int(num_entry * 0.1 + 0.5)\n",
    "print ('10% of existing categories:', num_remain_category)\n",
    "print('10% of category entries', num_new_entry)"
   ]
  },
  {
   "cell_type": "code",
   "execution_count": 12,
   "metadata": {
    "collapsed": false
   },
   "outputs": [
    {
     "name": "stdout",
     "output_type": "stream",
     "text": [
      "We need to remove 1296296 categories.\n"
     ]
    }
   ],
   "source": [
    "# How many categories do we need to remove?\n",
    "num_remove_category = num_category - num_remain_category\n",
    "print('We need to remove {} categories.'.format(num_remove_category))"
   ]
  },
  {
   "cell_type": "code",
   "execution_count": 13,
   "metadata": {
    "collapsed": false
   },
   "outputs": [
    {
     "name": "stdout",
     "output_type": "stream",
     "text": [
      "We need to sacrifice 3416 entries to reduce the number of categories to 10% of existing categories.\n"
     ]
    }
   ],
   "source": [
    "# We'll see at least how many entries do we need to sacrifice \n",
    "# to reduce the number of categories to 10% of existing categories\n",
    "sum_removed_category = 0\n",
    "i = 0\n",
    "while sum_removed_category < num_remove_category:\n",
    "    sum_removed_category += category_count[i]\n",
    "    i += 1\n",
    "num_sacrificed_entry = i\n",
    "print ('We need to sacrifice {} entries to reduce the number of categories to 10% of existing categories.'.format(num_sacrificed_entry))"
   ]
  },
  {
   "cell_type": "code",
   "execution_count": 14,
   "metadata": {
    "collapsed": false
   },
   "outputs": [
    {
     "name": "stdout",
     "output_type": "stream",
     "text": [
      "We need to sacrifice 26.58% entries.\n"
     ]
    }
   ],
   "source": [
    "percent_entry = num_sacrificed_entry / num_entry\n",
    "print ('We need to sacrifice {0:.2f}% entries.'.format(percent_entry*100))"
   ]
  },
  {
   "cell_type": "markdown",
   "metadata": {},
   "source": [
    "We need to sacrifice 26.58% entries at least to reduce the number of categories to 10% of existing categories. So it is not possible to reduce the number of categories drastically (say to 10% of existing categories) by sacrificing relatively few category entries (say close to 10%)"
   ]
  },
  {
   "cell_type": "markdown",
   "metadata": {},
   "source": [
    "--------------------------------"
   ]
  },
  {
   "cell_type": "markdown",
   "metadata": {},
   "source": [
    "### B. (Suggested duration: 30 mins)\n",
    "Give the number crunching a rest! Just think about these problems.\n",
    "1. **Algorithm thinking**    \n",
    "How would build the product categorization from scratch, using similar/co-purchased information?\n",
    "\n",
    "2. **Product thinking**    \n",
    "Now, put on your 'product thinking' hat.    \n",
    "a. Is it a good idea to show users the categorization hierarchy for items?  \n",
    "b. Is it a good idea to show users similar/co-purchased items?  \n",
    "c. Is it a good idea to show users reviews and ratings for items?  \n",
    "d. For each of the above, why? How will you establish the same? "
   ]
  },
  {
   "cell_type": "markdown",
   "metadata": {
    "collapsed": true
   },
   "source": [
    "#### Solutions:\n",
    "\n",
    "__1. Algorithm thinking__  \n",
    "To build the product categorization from scratch, I would use similar/co-purchased information to perform clustering with unsupervised machine learning. I may use k-means clustering to create product categories.\n",
    "\n",
    "__2. Product thinking__  \n",
    "a. It is not a good idea to show users the categorization hierarchy for items. Too much information will cause overload and distract users' attention from item he is viewing.   \n",
    "b. It is a good idea to show users similar/co-purchased items. Because these items are frequently bought by other customers along with the main item of interest, users may also need those additional items.   \n",
    "c. It is a good idea to show users reviews and ratings for items. Since they can serve as the reference and validation of the products. It also provide a community for users to share their commends and experiments about the items. \n"
   ]
  },
  {
   "cell_type": "code",
   "execution_count": null,
   "metadata": {
    "collapsed": true
   },
   "outputs": [],
   "source": []
  }
 ],
 "metadata": {
  "kernelspec": {
   "display_name": "Python 3",
   "language": "python",
   "name": "python3"
  },
  "language_info": {
   "codemirror_mode": {
    "name": "ipython",
    "version": 3
   },
   "file_extension": ".py",
   "mimetype": "text/x-python",
   "name": "python",
   "nbconvert_exporter": "python",
   "pygments_lexer": "ipython3",
   "version": "3.6.0"
  }
 },
 "nbformat": 4,
 "nbformat_minor": 2
}
